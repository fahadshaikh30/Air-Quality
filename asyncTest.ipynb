{
 "cells": [
  {
   "cell_type": "markdown",
   "metadata": {},
   "source": [
    "Potential workflow\n",
    "- save raw json data in s3 bucket\n",
    "- then process it and push to sql\n",
    "- after a week remove processed data from sql\n",
    "\n",
    "so no need to push data to s3 weekly"
   ]
  },
  {
   "cell_type": "code",
   "execution_count": 1,
   "metadata": {},
   "outputs": [],
   "source": [
    "import pandas as pd\n",
    "import os\n",
    "import requests as req\n",
    "import json\n",
    "import csv\n",
    "from datetime import datetime, timedelta\n",
    "from datetime import date\n",
    "\n",
    "import asyncio\n",
    "import aiohttp"
   ]
  },
  {
   "cell_type": "code",
   "execution_count": 2,
   "metadata": {},
   "outputs": [],
   "source": [
    "trt_data = pd.read_csv('dimTRTstore.csv', header=0)"
   ]
  },
  {
   "cell_type": "code",
   "execution_count": 3,
   "metadata": {},
   "outputs": [],
   "source": [
    "options = {}\n",
    "options[\"aqi_url\"] = \"http://api.openweathermap.org/data/2.5/air_pollution\"\n",
    "options[\"weather_url\"] = \"https://api.openweathermap.org/data/2.5/weather\"\n",
    "options[\"units\"] = \"metric\"\n",
    "options[\"api_key\"] = 'c5d22ed423af74ba40fc97b49c023304'"
   ]
  },
  {
   "cell_type": "code",
   "execution_count": 4,
   "metadata": {},
   "outputs": [],
   "source": [
    "# Builds request url to access weather data from OpenWeather\n",
    "# Params: \n",
    "# lat: latitude of desired location\n",
    "# lon: longitude of desired location\n",
    "# return: request url for weather\n",
    "\n",
    "def request_weather_url(lat,lon):\n",
    "\n",
    "    REQUEST_URL = options[\"weather_url\"] + \"?lat=\" \\\n",
    "    + str(lat) \\\n",
    "    + \"&lon=\" + str(lon) \\\n",
    "    + \"&appid=\" + options[\"api_key\"] \\\n",
    "    + \"&units=\" + options[\"units\"]\n",
    "\n",
    "    return REQUEST_URL"
   ]
  },
  {
   "cell_type": "code",
   "execution_count": 5,
   "metadata": {},
   "outputs": [],
   "source": [
    "# Builds request url to access AQI data from OpenWeather\n",
    "# Params: \n",
    "# lat: latitude of desired location\n",
    "# lon: longitude of desired location\n",
    "# return: request url for aqi\n",
    "\n",
    "def request_aqi_url(lat,lon):\n",
    "\n",
    "    REQUEST_URL = options[\"aqi_url\"] + \"?lat=\" \\\n",
    "    + str(lat) \\\n",
    "    + \"&lon=\" + str(lon) \\\n",
    "    + \"&appid=\" + options[\"api_key\"]\n",
    "\n",
    "    return REQUEST_URL"
   ]
  },
  {
   "cell_type": "code",
   "execution_count": 6,
   "metadata": {},
   "outputs": [],
   "source": [
    "WEATHER_URL_LIST = []\n",
    "AQI_URL_LIST = []\n",
    "for trt,lat,lon in zip(trt_data[\"TRT_ID\"],trt_data[\"Latitude\"], trt_data[\"Longitude\"]):\n",
    "    WEATHER_URL_LIST.append({'url': request_weather_url(lat,lon), 'TRT_ID': trt})\n",
    "    AQI_URL_LIST.append({'url': request_aqi_url(lat,lon), 'TRT_ID': trt})"
   ]
  },
  {
   "cell_type": "code",
   "execution_count": 7,
   "metadata": {},
   "outputs": [],
   "source": [
    "async def fetch(session, url, trt):\n",
    "    async with session.get(url) as response:\n",
    "        json_response = await response.json(content_type=None)\n",
    "        json_response.update({'TRT_ID': trt})\n",
    "        return json_response"
   ]
  },
  {
   "cell_type": "code",
   "execution_count": 8,
   "metadata": {},
   "outputs": [],
   "source": [
    "async def main_weather(urls):\n",
    "    async with aiohttp.ClientSession() as session:\n",
    "        tasks = [fetch(session, url, trt) for url, trt in zip(WEATHER_URL_LIST[0], WEATHER_URL_LIST[1])]\n",
    "        return await asyncio.gather(*tasks)"
   ]
  },
  {
   "cell_type": "code",
   "execution_count": 9,
   "metadata": {},
   "outputs": [],
   "source": [
    "async def main_aqi(urls):\n",
    "    async with aiohttp.ClientSession() as session:\n",
    "        tasks = [fetch(session, url['url'], trt['TRT_ID']) for url, trt in zip(AQI_URL_LIST, AQI_URL_LIST)]\n",
    "        return await asyncio.gather(*tasks)"
   ]
  },
  {
   "cell_type": "code",
   "execution_count": 10,
   "metadata": {},
   "outputs": [],
   "source": [
    "result = await main_weather(WEATHER_URL_LIST)"
   ]
  },
  {
   "cell_type": "code",
   "execution_count": 10,
   "metadata": {},
   "outputs": [],
   "source": [
    "result_aqi = await main_aqi(AQI_URL_LIST)"
   ]
  },
  {
   "cell_type": "code",
   "execution_count": 12,
   "metadata": {},
   "outputs": [],
   "source": [
    "def hour_rounder(t):\n",
    "    # Rounds down to the nearest hour\n",
    "    return (t.replace(second=0, microsecond=0, minute=0, hour=t.hour))"
   ]
  },
  {
   "cell_type": "code",
   "execution_count": 19,
   "metadata": {},
   "outputs": [],
   "source": [
    "def weather_to_csv():\n",
    "    dw = pd.json_normalize(result, 'weather', record_prefix='weather.')\n",
    "    dn = pd.json_normalize(result)\n",
    "    #dn['dt'] = dn['dt'].apply(lambda t: hour_rounder(datetime.utcfromtimestamp(t)).strftime('%Y-%m-%d %H:%M:%S'))\n",
    "    #dn['sys.sunrise'] = dn['sys.sunrise'].apply(lambda t: datetime.utcfromtimestamp(t).strftime('%Y-%m-%d %H:%M:%S'))\n",
    "    #dn['sys.sunset'] = dn['sys.sunset'].apply(lambda t: datetime.utcfromtimestamp(t).strftime('%Y-%m-%d %H:%M:%S'))\n",
    "    dn = dn.drop('weather', axis=1)\n",
    "    df_update = pd.concat([dn,dw], axis=1)\n",
    "    df_update = df_update[df_update['base'].notna()]\n",
    "    weather_file_name = \"Weather\" + datetime.now().strftime(\"_%Y%m%d%H%M%S.csv\")\n",
    "    df_update.to_csv(weather_file_name, index=False)"
   ]
  },
  {
   "cell_type": "code",
   "execution_count": 20,
   "metadata": {},
   "outputs": [],
   "source": [
    "weather_to_csv()"
   ]
  },
  {
   "cell_type": "code",
   "execution_count": 11,
   "metadata": {},
   "outputs": [],
   "source": [
    "def aqi_to_csv():\n",
    "    dw = pd.json_normalize(result_aqi, 'list', record_prefix='aqi.')\n",
    "    dn = pd.json_normalize(result_aqi)\n",
    "    #dw['aqi.dt'] = dw['aqi.dt'].apply(lambda t: hour_rounder(datetime.utcfromtimestamp(t)).strftime('%Y-%m-%d %H:%M:%S'))\n",
    "    dn = dn.drop('list', axis=1)\n",
    "    df = pd.concat([dn,dw], axis=1)\n",
    "    aqi_file_name = \"AQI\" + datetime.now().strftime(\"_%Y%m%d%H%M%S.csv\")\n",
    "    df.to_csv(aqi_file_name, index=False)"
   ]
  },
  {
   "cell_type": "code",
   "execution_count": 12,
   "metadata": {},
   "outputs": [],
   "source": [
    "aqi_to_csv()"
   ]
  },
  {
   "cell_type": "code",
   "execution_count": null,
   "metadata": {},
   "outputs": [],
   "source": []
  }
 ],
 "metadata": {
  "kernelspec": {
   "display_name": "Python 3.9.12 ('base')",
   "language": "python",
   "name": "python3"
  },
  "language_info": {
   "codemirror_mode": {
    "name": "ipython",
    "version": 3
   },
   "file_extension": ".py",
   "mimetype": "text/x-python",
   "name": "python",
   "nbconvert_exporter": "python",
   "pygments_lexer": "ipython3",
   "version": "3.9.12 (main, Apr  4 2022, 05:22:27) [MSC v.1916 64 bit (AMD64)]"
  },
  "orig_nbformat": 4,
  "vscode": {
   "interpreter": {
    "hash": "da24c822f958bb83a104dff98dc7b915134eb9cfe2a236abb560fb6bddae8834"
   }
  }
 },
 "nbformat": 4,
 "nbformat_minor": 2
}
