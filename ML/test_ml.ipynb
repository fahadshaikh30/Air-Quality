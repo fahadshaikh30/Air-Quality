{
 "cells": [
  {
   "cell_type": "code",
   "execution_count": 1,
   "metadata": {},
   "outputs": [],
   "source": [
    "import pandas as pd\n",
    "import numpy as np\n",
    "\n",
    "from matplotlib import pyplot as plt\n",
    "import seaborn as sns\n",
    "sns.set()"
   ]
  },
  {
   "cell_type": "code",
   "execution_count": 2,
   "metadata": {},
   "outputs": [],
   "source": [
    "df_train = pd.read_parquet('AQI_Historical_New')\n",
    "df_test = pd.read_parquet('AQI_Historical_Dec_2022.parquet')"
   ]
  },
  {
   "cell_type": "code",
   "execution_count": 3,
   "metadata": {},
   "outputs": [],
   "source": [
    "df_train = df_train[df_train['TRT_ID'] == 20]\n",
    "df_test = df_test[df_test['TRT_ID'] == 20]"
   ]
  },
  {
   "cell_type": "code",
   "execution_count": 4,
   "metadata": {},
   "outputs": [],
   "source": [
    "df_train = df_train.drop('coord.lon', axis=1)\n",
    "df_train = df_train.drop('coord.lat', axis=1)\n",
    "df_train = df_train.drop('TRT_ID', axis=1)\n",
    "df_test = df_test.drop('coord.lon', axis=1)\n",
    "df_test = df_test.drop('coord.lat', axis=1)\n",
    "df_test = df_test.drop('TRT_ID', axis=1)"
   ]
  },
  {
   "cell_type": "code",
   "execution_count": 5,
   "metadata": {},
   "outputs": [],
   "source": [
    "df_train[\"dt\"] = pd.to_datetime(df_train[\"dt\"])\n",
    "df_test[\"dt\"] = pd.to_datetime(df_test[\"dt\"])"
   ]
  },
  {
   "cell_type": "code",
   "execution_count": 6,
   "metadata": {},
   "outputs": [],
   "source": [
    "df = df_train"
   ]
  },
  {
   "cell_type": "code",
   "execution_count": 7,
   "metadata": {},
   "outputs": [],
   "source": [
    "from prophet import Prophet"
   ]
  },
  {
   "cell_type": "code",
   "execution_count": 8,
   "metadata": {},
   "outputs": [],
   "source": [
    "df_train = df_train.rename(columns={'dt':'ds', 'components.pm2_5':'y'})\n",
    "df_train['y_orig'] = df_train['y']\n",
    "df_train['y'] = np.log(df_train['y'])"
   ]
  },
  {
   "cell_type": "code",
   "execution_count": 9,
   "metadata": {},
   "outputs": [
    {
     "data": {
      "text/plain": [
       "<prophet.forecaster.Prophet at 0x241836f4610>"
      ]
     },
     "execution_count": 9,
     "metadata": {},
     "output_type": "execute_result"
    }
   ],
   "source": [
    "model_new = Prophet(interval_width=0.95)\n",
    "model_new.add_regressor('components.co')\n",
    "model_new.add_regressor('components.no')\n",
    "model_new.add_regressor('components.no2')\n",
    "model_new.add_regressor('components.o3')\n",
    "model_new.add_regressor('components.so2')\n",
    "model_new.add_regressor('components.pm10')\n",
    "model_new.add_regressor('components.nh3')"
   ]
  },
  {
   "cell_type": "code",
   "execution_count": 10,
   "metadata": {},
   "outputs": [
    {
     "name": "stderr",
     "output_type": "stream",
     "text": [
      "12:56:32 - cmdstanpy - INFO - Chain [1] start processing\n",
      "12:56:39 - cmdstanpy - INFO - Chain [1] done processing\n"
     ]
    },
    {
     "data": {
      "text/plain": [
       "<prophet.forecaster.Prophet at 0x241836f4610>"
      ]
     },
     "execution_count": 10,
     "metadata": {},
     "output_type": "execute_result"
    }
   ],
   "source": [
    "model_new.fit(df_train)"
   ]
  },
  {
   "cell_type": "code",
   "execution_count": 11,
   "metadata": {},
   "outputs": [],
   "source": [
    "future_data = model_new.make_future_dataframe(periods=30, freq='D')"
   ]
  },
  {
   "cell_type": "code",
   "execution_count": 12,
   "metadata": {},
   "outputs": [
    {
     "name": "stderr",
     "output_type": "stream",
     "text": [
      "C:\\Users\\fashaikh\\AppData\\Local\\Temp\\ipykernel_18404\\92394862.py:1: FutureWarning: The frame.append method is deprecated and will be removed from pandas in a future version. Use pandas.concat instead.\n",
      "  df = df.append(df_test)\n"
     ]
    }
   ],
   "source": [
    "df = df.append(df_test)\n",
    "df = df.rename(columns={'dt':'ds', 'components.pm2_5':'y'})\n",
    "future_data = df[['ds','components.co', 'components.no', 'components.no2', 'components.o3', 'components.so2', 'components.pm10', 'components.nh3']]"
   ]
  },
  {
   "cell_type": "code",
   "execution_count": 13,
   "metadata": {},
   "outputs": [
    {
     "data": {
      "text/html": [
       "<div>\n",
       "<style scoped>\n",
       "    .dataframe tbody tr th:only-of-type {\n",
       "        vertical-align: middle;\n",
       "    }\n",
       "\n",
       "    .dataframe tbody tr th {\n",
       "        vertical-align: top;\n",
       "    }\n",
       "\n",
       "    .dataframe thead th {\n",
       "        text-align: right;\n",
       "    }\n",
       "</style>\n",
       "<table border=\"1\" class=\"dataframe\">\n",
       "  <thead>\n",
       "    <tr style=\"text-align: right;\">\n",
       "      <th></th>\n",
       "      <th>ds</th>\n",
       "      <th>yhat</th>\n",
       "      <th>yhat_lower</th>\n",
       "      <th>yhat_upper</th>\n",
       "    </tr>\n",
       "  </thead>\n",
       "  <tbody>\n",
       "    <tr>\n",
       "      <th>17299</th>\n",
       "      <td>2022-12-31 19:00:00</td>\n",
       "      <td>1.758171</td>\n",
       "      <td>0.971993</td>\n",
       "      <td>2.558978</td>\n",
       "    </tr>\n",
       "    <tr>\n",
       "      <th>17300</th>\n",
       "      <td>2022-12-31 20:00:00</td>\n",
       "      <td>1.831230</td>\n",
       "      <td>1.025805</td>\n",
       "      <td>2.685188</td>\n",
       "    </tr>\n",
       "    <tr>\n",
       "      <th>17301</th>\n",
       "      <td>2022-12-31 21:00:00</td>\n",
       "      <td>1.857412</td>\n",
       "      <td>1.042465</td>\n",
       "      <td>2.700333</td>\n",
       "    </tr>\n",
       "    <tr>\n",
       "      <th>17302</th>\n",
       "      <td>2022-12-31 22:00:00</td>\n",
       "      <td>1.967330</td>\n",
       "      <td>1.161009</td>\n",
       "      <td>2.793849</td>\n",
       "    </tr>\n",
       "    <tr>\n",
       "      <th>17303</th>\n",
       "      <td>2022-12-31 23:00:00</td>\n",
       "      <td>2.117423</td>\n",
       "      <td>1.321366</td>\n",
       "      <td>3.019953</td>\n",
       "    </tr>\n",
       "  </tbody>\n",
       "</table>\n",
       "</div>"
      ],
      "text/plain": [
       "                       ds      yhat  yhat_lower  yhat_upper\n",
       "17299 2022-12-31 19:00:00  1.758171    0.971993    2.558978\n",
       "17300 2022-12-31 20:00:00  1.831230    1.025805    2.685188\n",
       "17301 2022-12-31 21:00:00  1.857412    1.042465    2.700333\n",
       "17302 2022-12-31 22:00:00  1.967330    1.161009    2.793849\n",
       "17303 2022-12-31 23:00:00  2.117423    1.321366    3.019953"
      ]
     },
     "execution_count": 13,
     "metadata": {},
     "output_type": "execute_result"
    }
   ],
   "source": [
    "forecast_data = model_new.predict(future_data)\n",
    "forecast_data[['ds','yhat','yhat_lower','yhat_upper']].tail(5)"
   ]
  },
  {
   "cell_type": "code",
   "execution_count": 14,
   "metadata": {},
   "outputs": [],
   "source": [
    "forecast_data_orig = forecast_data\n",
    "forecast_data_orig['yhat'] = np.exp(forecast_data_orig['yhat'])\n",
    "forecast_data_orig['yhat_lower'] = np.exp(forecast_data_orig['yhat_lower'])\n",
    "forecast_data_orig['yhat_upper'] = np.exp(forecast_data_orig['yhat_upper'])"
   ]
  },
  {
   "cell_type": "code",
   "execution_count": 15,
   "metadata": {},
   "outputs": [],
   "source": [
    "df_train['y_log'] = df_train['y']\n",
    "df_train['y'] = df_train['y_orig']"
   ]
  },
  {
   "cell_type": "code",
   "execution_count": 16,
   "metadata": {},
   "outputs": [
    {
     "data": {
      "text/plain": [
       "'temp-plot.html'"
      ]
     },
     "execution_count": 16,
     "metadata": {},
     "output_type": "execute_result"
    }
   ],
   "source": [
    "final_df = pd.DataFrame(forecast_data_orig)\n",
    "import plotly.graph_objs as go\n",
    "import plotly.offline as py\n",
    "\n",
    "actual_chart = go.Scatter(y=df_train['y_orig'], name='Actual')\n",
    "predicted_chart = go.Scatter(y=final_df['yhat'], name='Predicted')\n",
    "predicted_chart_upper = go.Scatter(y=final_df['yhat_upper'], name='Predicted Upper')\n",
    "predicted_chart_lower = go.Scatter(y=final_df['yhat_lower'], name='Predicted Lower')\n",
    "#real_actual = go.Scatter(y=df_test['components.pm2_5'] ,name='Real Actual')\n",
    "\n",
    "py.plot([actual_chart,predicted_chart,predicted_chart_upper,predicted_chart_lower])"
   ]
  },
  {
   "cell_type": "code",
   "execution_count": null,
   "metadata": {},
   "outputs": [],
   "source": []
  }
 ],
 "metadata": {
  "kernelspec": {
   "display_name": "base",
   "language": "python",
   "name": "python3"
  },
  "language_info": {
   "codemirror_mode": {
    "name": "ipython",
    "version": 3
   },
   "file_extension": ".py",
   "mimetype": "text/x-python",
   "name": "python",
   "nbconvert_exporter": "python",
   "pygments_lexer": "ipython3",
   "version": "3.9.12 (main, Apr  4 2022, 05:22:27) [MSC v.1916 64 bit (AMD64)]"
  },
  "orig_nbformat": 4,
  "vscode": {
   "interpreter": {
    "hash": "da24c822f958bb83a104dff98dc7b915134eb9cfe2a236abb560fb6bddae8834"
   }
  }
 },
 "nbformat": 4,
 "nbformat_minor": 2
}
