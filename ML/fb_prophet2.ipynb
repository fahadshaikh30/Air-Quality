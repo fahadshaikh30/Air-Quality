{
 "cells": [
  {
   "cell_type": "code",
   "execution_count": 1,
   "metadata": {},
   "outputs": [],
   "source": [
    "import pandas as pd\n",
    "from prophet import Prophet\n",
    "import numpy as np"
   ]
  },
  {
   "cell_type": "code",
   "execution_count": 2,
   "metadata": {},
   "outputs": [],
   "source": [
    "df_train = pd.read_parquet('AQI_Historical_New')"
   ]
  },
  {
   "cell_type": "code",
   "execution_count": 3,
   "metadata": {},
   "outputs": [],
   "source": [
    "df_train = df_train[df_train['TRT_ID'] == 20]"
   ]
  },
  {
   "cell_type": "code",
   "execution_count": 4,
   "metadata": {},
   "outputs": [],
   "source": [
    "df_train['lat,lon,trt'] = 'Lat:' + df_train['coord.lat'].astype(str) + ', Lon:'+ df_train['coord.lon'].astype(str) + ', TRT_ID:' + df_train['TRT_ID'].astype(str)"
   ]
  },
  {
   "cell_type": "code",
   "execution_count": 5,
   "metadata": {},
   "outputs": [],
   "source": [
    "df_train = df_train.drop('coord.lon', axis=1)\n",
    "df_train = df_train.drop('coord.lat', axis=1)\n",
    "df_train = df_train.drop('TRT_ID', axis=1)\n",
    "#df_train = df_train.drop('main.aqi', axis=1)"
   ]
  },
  {
   "cell_type": "code",
   "execution_count": 6,
   "metadata": {},
   "outputs": [],
   "source": [
    "df_train[\"dt\"] = pd.to_datetime(df_train[\"dt\"])"
   ]
  },
  {
   "cell_type": "code",
   "execution_count": 7,
   "metadata": {},
   "outputs": [],
   "source": [
    "df_train = df_train.rename(columns={'dt':'ds','components.pm2_5':'y'})"
   ]
  },
  {
   "cell_type": "code",
   "execution_count": 8,
   "metadata": {},
   "outputs": [],
   "source": [
    "df_train['y_orig'] = df_train['y']\n",
    "df_train['y'] = np.log(df_train['y'])"
   ]
  },
  {
   "cell_type": "code",
   "execution_count": 9,
   "metadata": {},
   "outputs": [
    {
     "data": {
      "text/plain": [
       "<prophet.forecaster.Prophet at 0x1add6af20d0>"
      ]
     },
     "execution_count": 9,
     "metadata": {},
     "output_type": "execute_result"
    }
   ],
   "source": [
    "model_new = Prophet()\n",
    "model_new.add_regressor('components.co')\n",
    "model_new.add_regressor('components.no')\n",
    "model_new.add_regressor('components.no2')\n",
    "model_new.add_regressor('components.o3')\n",
    "model_new.add_regressor('components.so2')\n",
    "model_new.add_regressor('components.pm10')\n",
    "model_new.add_regressor('components.nh3')"
   ]
  },
  {
   "cell_type": "code",
   "execution_count": 10,
   "metadata": {},
   "outputs": [
    {
     "name": "stderr",
     "output_type": "stream",
     "text": [
      "12:00:03 - cmdstanpy - INFO - Chain [1] start processing\n",
      "12:00:12 - cmdstanpy - INFO - Chain [1] done processing\n"
     ]
    },
    {
     "data": {
      "text/plain": [
       "<prophet.forecaster.Prophet at 0x1add6af20d0>"
      ]
     },
     "execution_count": 10,
     "metadata": {},
     "output_type": "execute_result"
    }
   ],
   "source": [
    "model_new.fit(df_train)"
   ]
  },
  {
   "cell_type": "code",
   "execution_count": 11,
   "metadata": {},
   "outputs": [],
   "source": [
    "future_data = model_new.make_future_dataframe(periods=720, freq='H')"
   ]
  },
  {
   "cell_type": "code",
   "execution_count": null,
   "metadata": {},
   "outputs": [],
   "source": [
    "future_data = df[['ds','components.co', 'components.no', 'components.no2', 'components.o3', 'components.so2', 'components.pm10', 'components.nh3']]"
   ]
  },
  {
   "cell_type": "code",
   "execution_count": 6,
   "metadata": {},
   "outputs": [],
   "source": [
    "df_train = df_train.set_index('dt').groupby('lat,lon,trt').resample('D').mean()"
   ]
  },
  {
   "cell_type": "code",
   "execution_count": 7,
   "metadata": {},
   "outputs": [],
   "source": [
    "df_train = df_train.reset_index()"
   ]
  },
  {
   "cell_type": "code",
   "execution_count": 10,
   "metadata": {},
   "outputs": [],
   "source": [
    "locations = df_train.groupby(\"lat,lon,trt\")"
   ]
  },
  {
   "cell_type": "code",
   "execution_count": 17,
   "metadata": {},
   "outputs": [],
   "source": [
    "for location in locations.groups:\n",
    "    group = locations.get_group(location)\n",
    "    train_set = group[(group['ds'] >= '2021-01-01') & (group['ds'] <= '2022-11-30')]\n",
    "    test_set = group[(group['ds'] > '2022-11-30')]"
   ]
  },
  {
   "cell_type": "code",
   "execution_count": 11,
   "metadata": {},
   "outputs": [],
   "source": [
    "target = pd.DataFrame()"
   ]
  },
  {
   "cell_type": "code",
   "execution_count": 15,
   "metadata": {},
   "outputs": [
    {
     "name": "stderr",
     "output_type": "stream",
     "text": [
      "10:55:06 - cmdstanpy - INFO - Chain [1] start processing\n",
      "10:55:06 - cmdstanpy - INFO - Chain [1] done processing\n"
     ]
    },
    {
     "ename": "ValueError",
     "evalue": "Regressor 'components.co' missing from dataframe",
     "output_type": "error",
     "traceback": [
      "\u001b[1;31m---------------------------------------------------------------------------\u001b[0m",
      "\u001b[1;31mValueError\u001b[0m                                Traceback (most recent call last)",
      "\u001b[1;32mc:\\Users\\fashaikh\\Desktop\\AQI\\fb_prophet2.ipynb Cell 13\u001b[0m in \u001b[0;36m<cell line: 1>\u001b[1;34m()\u001b[0m\n\u001b[0;32m     <a href='vscode-notebook-cell:/c%3A/Users/fashaikh/Desktop/AQI/fb_prophet2.ipynb#X41sZmlsZQ%3D%3D?line=12'>13</a>\u001b[0m model_new\u001b[39m.\u001b[39mfit(group)\n\u001b[0;32m     <a href='vscode-notebook-cell:/c%3A/Users/fashaikh/Desktop/AQI/fb_prophet2.ipynb#X41sZmlsZQ%3D%3D?line=13'>14</a>\u001b[0m future \u001b[39m=\u001b[39m model_new\u001b[39m.\u001b[39mmake_future_dataframe(periods\u001b[39m=\u001b[39m\u001b[39m365\u001b[39m)\n\u001b[1;32m---> <a href='vscode-notebook-cell:/c%3A/Users/fashaikh/Desktop/AQI/fb_prophet2.ipynb#X41sZmlsZQ%3D%3D?line=14'>15</a>\u001b[0m forecast \u001b[39m=\u001b[39m model_new\u001b[39m.\u001b[39;49mpredict(future)\n\u001b[0;32m     <a href='vscode-notebook-cell:/c%3A/Users/fashaikh/Desktop/AQI/fb_prophet2.ipynb#X41sZmlsZQ%3D%3D?line=15'>16</a>\u001b[0m forecast \u001b[39m=\u001b[39m forecast\u001b[39m.\u001b[39mrename(columns\u001b[39m=\u001b[39m{\u001b[39m'\u001b[39m\u001b[39myhat\u001b[39m\u001b[39m'\u001b[39m:\u001b[39m'\u001b[39m\u001b[39myhat_\u001b[39m\u001b[39m'\u001b[39m \u001b[39m+\u001b[39m location})\n\u001b[0;32m     <a href='vscode-notebook-cell:/c%3A/Users/fashaikh/Desktop/AQI/fb_prophet2.ipynb#X41sZmlsZQ%3D%3D?line=16'>17</a>\u001b[0m target \u001b[39m=\u001b[39m pd\u001b[39m.\u001b[39mmerge(target, forecast\u001b[39m.\u001b[39mset_index(\u001b[39m'\u001b[39m\u001b[39mds\u001b[39m\u001b[39m'\u001b[39m), how\u001b[39m=\u001b[39m\u001b[39m'\u001b[39m\u001b[39mouter\u001b[39m\u001b[39m'\u001b[39m, left_index\u001b[39m=\u001b[39m\u001b[39mTrue\u001b[39;00m, right_index\u001b[39m=\u001b[39m\u001b[39mTrue\u001b[39;00m)\n",
      "File \u001b[1;32mc:\\Users\\fashaikh\\Anaconda3\\lib\\site-packages\\prophet\\forecaster.py:1212\u001b[0m, in \u001b[0;36mProphet.predict\u001b[1;34m(self, df, vectorized)\u001b[0m\n\u001b[0;32m   1210\u001b[0m     \u001b[39mif\u001b[39;00m df\u001b[39m.\u001b[39mshape[\u001b[39m0\u001b[39m] \u001b[39m==\u001b[39m \u001b[39m0\u001b[39m:\n\u001b[0;32m   1211\u001b[0m         \u001b[39mraise\u001b[39;00m \u001b[39mValueError\u001b[39;00m(\u001b[39m'\u001b[39m\u001b[39mDataframe has no rows.\u001b[39m\u001b[39m'\u001b[39m)\n\u001b[1;32m-> 1212\u001b[0m     df \u001b[39m=\u001b[39m \u001b[39mself\u001b[39;49m\u001b[39m.\u001b[39;49msetup_dataframe(df\u001b[39m.\u001b[39;49mcopy())\n\u001b[0;32m   1214\u001b[0m df[\u001b[39m'\u001b[39m\u001b[39mtrend\u001b[39m\u001b[39m'\u001b[39m] \u001b[39m=\u001b[39m \u001b[39mself\u001b[39m\u001b[39m.\u001b[39mpredict_trend(df)\n\u001b[0;32m   1215\u001b[0m seasonal_components \u001b[39m=\u001b[39m \u001b[39mself\u001b[39m\u001b[39m.\u001b[39mpredict_seasonal_components(df)\n",
      "File \u001b[1;32mc:\\Users\\fashaikh\\Anaconda3\\lib\\site-packages\\prophet\\forecaster.py:280\u001b[0m, in \u001b[0;36mProphet.setup_dataframe\u001b[1;34m(self, df, initialize_scales)\u001b[0m\n\u001b[0;32m    278\u001b[0m \u001b[39mfor\u001b[39;00m name \u001b[39min\u001b[39;00m \u001b[39mself\u001b[39m\u001b[39m.\u001b[39mextra_regressors:\n\u001b[0;32m    279\u001b[0m     \u001b[39mif\u001b[39;00m name \u001b[39mnot\u001b[39;00m \u001b[39min\u001b[39;00m df:\n\u001b[1;32m--> 280\u001b[0m         \u001b[39mraise\u001b[39;00m \u001b[39mValueError\u001b[39;00m(\n\u001b[0;32m    281\u001b[0m             \u001b[39m'\u001b[39m\u001b[39mRegressor \u001b[39m\u001b[39m{name!r}\u001b[39;00m\u001b[39m missing from dataframe\u001b[39m\u001b[39m'\u001b[39m\n\u001b[0;32m    282\u001b[0m             \u001b[39m.\u001b[39mformat(name\u001b[39m=\u001b[39mname)\n\u001b[0;32m    283\u001b[0m         )\n\u001b[0;32m    284\u001b[0m     df[name] \u001b[39m=\u001b[39m pd\u001b[39m.\u001b[39mto_numeric(df[name])\n\u001b[0;32m    285\u001b[0m     \u001b[39mif\u001b[39;00m df[name]\u001b[39m.\u001b[39misnull()\u001b[39m.\u001b[39many():\n",
      "\u001b[1;31mValueError\u001b[0m: Regressor 'components.co' missing from dataframe"
     ]
    }
   ],
   "source": [
    "for location in locations.groups:\n",
    "    group = locations.get_group(location)\n",
    "\n",
    "    model_new = Prophet(interval_width=0.95)\n",
    "    model_new.add_regressor('components.co')\n",
    "    model_new.add_regressor('components.no')\n",
    "    model_new.add_regressor('components.no2')\n",
    "    model_new.add_regressor('components.o3')\n",
    "    model_new.add_regressor('components.so2')\n",
    "    model_new.add_regressor('components.pm10')\n",
    "    model_new.add_regressor('components.nh3')\n",
    "\n",
    "    model_new.fit(group)\n",
    "    future = model_new.make_future_dataframe(periods=365)\n",
    "    forecast = model_new.predict(future)\n",
    "    forecast = forecast.rename(columns={'yhat':'yhat_' + location})\n",
    "    target = pd.merge(target, forecast.set_index('ds'), how='outer', left_index=True, right_index=True)\n"
   ]
  },
  {
   "cell_type": "code",
   "execution_count": 8,
   "metadata": {},
   "outputs": [],
   "source": [
    "df_train = df_train.sort_values('ds')"
   ]
  },
  {
   "cell_type": "code",
   "execution_count": 10,
   "metadata": {},
   "outputs": [
    {
     "data": {
      "text/plain": [
       "<prophet.forecaster.Prophet at 0x273011e78e0>"
      ]
     },
     "execution_count": 10,
     "metadata": {},
     "output_type": "execute_result"
    }
   ],
   "source": [
    "model_new = Prophet(interval_width=0.95, yearly_seasonality=True)\n",
    "model_new.add_regressor('components.co')\n",
    "model_new.add_regressor('components.no')\n",
    "model_new.add_regressor('components.no2')\n",
    "model_new.add_regressor('components.o3')\n",
    "model_new.add_regressor('components.so2')\n",
    "model_new.add_regressor('components.pm10')\n",
    "model_new.add_regressor('components.nh3')"
   ]
  },
  {
   "cell_type": "code",
   "execution_count": 11,
   "metadata": {},
   "outputs": [
    {
     "name": "stderr",
     "output_type": "stream",
     "text": [
      "13:18:51 - cmdstanpy - INFO - Chain [1] start processing\n",
      "13:19:00 - cmdstanpy - INFO - Chain [1] done processing\n"
     ]
    },
    {
     "data": {
      "text/plain": [
       "<prophet.forecaster.Prophet at 0x273011e78e0>"
      ]
     },
     "execution_count": 11,
     "metadata": {},
     "output_type": "execute_result"
    }
   ],
   "source": [
    "model_new.fit(df_train)"
   ]
  },
  {
   "cell_type": "code",
   "execution_count": 12,
   "metadata": {},
   "outputs": [
    {
     "data": {
      "text/html": [
       "<div>\n",
       "<style scoped>\n",
       "    .dataframe tbody tr th:only-of-type {\n",
       "        vertical-align: middle;\n",
       "    }\n",
       "\n",
       "    .dataframe tbody tr th {\n",
       "        vertical-align: top;\n",
       "    }\n",
       "\n",
       "    .dataframe thead th {\n",
       "        text-align: right;\n",
       "    }\n",
       "</style>\n",
       "<table border=\"1\" class=\"dataframe\">\n",
       "  <thead>\n",
       "    <tr style=\"text-align: right;\">\n",
       "      <th></th>\n",
       "      <th>ds</th>\n",
       "    </tr>\n",
       "  </thead>\n",
       "  <tbody>\n",
       "    <tr>\n",
       "      <th>17999</th>\n",
       "      <td>2024-11-26 23:00:00</td>\n",
       "    </tr>\n",
       "    <tr>\n",
       "      <th>18000</th>\n",
       "      <td>2024-11-27 23:00:00</td>\n",
       "    </tr>\n",
       "    <tr>\n",
       "      <th>18001</th>\n",
       "      <td>2024-11-28 23:00:00</td>\n",
       "    </tr>\n",
       "    <tr>\n",
       "      <th>18002</th>\n",
       "      <td>2024-11-29 23:00:00</td>\n",
       "    </tr>\n",
       "    <tr>\n",
       "      <th>18003</th>\n",
       "      <td>2024-11-30 23:00:00</td>\n",
       "    </tr>\n",
       "  </tbody>\n",
       "</table>\n",
       "</div>"
      ],
      "text/plain": [
       "                       ds\n",
       "17999 2024-11-26 23:00:00\n",
       "18000 2024-11-27 23:00:00\n",
       "18001 2024-11-28 23:00:00\n",
       "18002 2024-11-29 23:00:00\n",
       "18003 2024-11-30 23:00:00"
      ]
     },
     "execution_count": 12,
     "metadata": {},
     "output_type": "execute_result"
    }
   ],
   "source": [
    "future = model_new.make_future_dataframe(periods=700)\n",
    "future.tail()"
   ]
  },
  {
   "cell_type": "code",
   "execution_count": 13,
   "metadata": {},
   "outputs": [],
   "source": [
    "future = pd.concat([future, df_train], axis=1)"
   ]
  }
 ],
 "metadata": {
  "kernelspec": {
   "display_name": "base",
   "language": "python",
   "name": "python3"
  },
  "language_info": {
   "codemirror_mode": {
    "name": "ipython",
    "version": 3
   },
   "file_extension": ".py",
   "mimetype": "text/x-python",
   "name": "python",
   "nbconvert_exporter": "python",
   "pygments_lexer": "ipython3",
   "version": "3.9.12 (main, Apr  4 2022, 05:22:27) [MSC v.1916 64 bit (AMD64)]"
  },
  "orig_nbformat": 4,
  "vscode": {
   "interpreter": {
    "hash": "da24c822f958bb83a104dff98dc7b915134eb9cfe2a236abb560fb6bddae8834"
   }
  }
 },
 "nbformat": 4,
 "nbformat_minor": 2
}
