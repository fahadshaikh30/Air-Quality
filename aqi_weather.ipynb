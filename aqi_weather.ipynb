{
 "cells": [
  {
   "cell_type": "markdown",
   "metadata": {},
   "source": [
    "Getting weather and AQI data from OpenWeather in json format, merging and converting it into csv"
   ]
  },
  {
   "cell_type": "code",
   "execution_count": 19,
   "metadata": {},
   "outputs": [],
   "source": [
    "API_KEY = '6dc507f5ca3f2dac7486e5037f6c9f89'"
   ]
  },
  {
   "cell_type": "code",
   "execution_count": 20,
   "metadata": {},
   "outputs": [],
   "source": [
    "import pandas as pd\n",
    "import os\n",
    "import requests as req\n",
    "import json\n",
    "import csv\n",
    "from datetime import datetime, timedelta"
   ]
  },
  {
   "cell_type": "code",
   "execution_count": 21,
   "metadata": {},
   "outputs": [],
   "source": [
    "aqi = pd.read_csv('AirNowAPI_20223514103516.csv', header=None)"
   ]
  },
  {
   "cell_type": "code",
   "execution_count": 22,
   "metadata": {},
   "outputs": [],
   "source": [
    "lat = aqi[0][0]\n",
    "lon = aqi[1][0]"
   ]
  },
  {
   "cell_type": "code",
   "execution_count": 23,
   "metadata": {},
   "outputs": [],
   "source": [
    "# API Parameters\n",
    "options = {}\n",
    "options[\"aqi_url\"] = \"http://api.openweathermap.org/data/2.5/air_pollution\"\n",
    "options[\"url\"] = \"https://api.openweathermap.org/data/2.5/weather\"\n",
    "options[\"lat\"] = str(lat)\n",
    "options[\"lon\"] = str(lon)\n",
    "options[\"units\"] = \"metric\"\n",
    "options[\"api_key\"] = API_KEY"
   ]
  },
  {
   "cell_type": "code",
   "execution_count": 24,
   "metadata": {},
   "outputs": [],
   "source": [
    "def weather_url():\n",
    "    REQUEST_URL = options[\"url\"] + \"?lat=\" \\\n",
    "    + options[\"lat\"] \\\n",
    "    + \"&lon=\" + options[\"lon\"] \\\n",
    "    + \"&appid=\" + options[\"api_key\"] \\\n",
    "    + \"&units=\" + options[\"units\"]\n",
    "    return REQUEST_URL"
   ]
  },
  {
   "cell_type": "code",
   "execution_count": 25,
   "metadata": {},
   "outputs": [],
   "source": [
    "def aqi_url():\n",
    "    REQUEST_URL = options[\"aqi_url\"] + \"?lat=\" \\\n",
    "    + options[\"lat\"] \\\n",
    "    + \"&lon=\" + options[\"lon\"] \\\n",
    "    + \"&appid=\" + options[\"api_key\"]\n",
    "    return REQUEST_URL"
   ]
  },
  {
   "cell_type": "code",
   "execution_count": 26,
   "metadata": {},
   "outputs": [
    {
     "name": "stdout",
     "output_type": "stream",
     "text": [
      "http://api.openweathermap.org/data/2.5/air_pollution?lat=21.310301&lon=-157.858093&appid=6dc507f5ca3f2dac7486e5037f6c9f89\n"
     ]
    }
   ],
   "source": [
    "print(aqi_url())"
   ]
  },
  {
   "cell_type": "code",
   "execution_count": 27,
   "metadata": {},
   "outputs": [
    {
     "name": "stdout",
     "output_type": "stream",
     "text": [
      "https://api.openweathermap.org/data/2.5/weather?lat=21.310301&lon=-157.858093&appid=6dc507f5ca3f2dac7486e5037f6c9f89&units=metric\n"
     ]
    }
   ],
   "source": [
    "print(weather_url())"
   ]
  },
  {
   "cell_type": "code",
   "execution_count": 28,
   "metadata": {},
   "outputs": [],
   "source": [
    "def hour_rounder(t):\n",
    "    # Rounds to nearest hour by adding a timedelta hour if minute >= 30\n",
    "    return (t.replace(second=0, microsecond=0, minute=0, hour=t.hour) + timedelta(hours=t.minute//30))"
   ]
  },
  {
   "cell_type": "code",
   "execution_count": 29,
   "metadata": {},
   "outputs": [],
   "source": [
    "def call_weather_api():\n",
    "    response = req.get(weather_url())\n",
    "    data = response.json()\n",
    "    dw = pd.json_normalize(data['weather'])\n",
    "    dt = pd.json_normalize(data)\n",
    "    dt = dt.drop('weather', axis=1)\n",
    "    df_update = pd.concat([dw,dt],axis=1)\n",
    "\n",
    "    df_update['dt'] = hour_rounder(datetime.utcfromtimestamp(df_update['dt'])).strftime('%Y-%m-%d %H:%M:%S')\n",
    "    df_update['sys.sunrise'] = datetime.utcfromtimestamp(df_update['sys.sunrise']).strftime('%Y-%m-%d %H:%M:%S')\n",
    "    df_update['sys.sunset'] = datetime.utcfromtimestamp(df_update['sys.sunset']).strftime('%Y-%m-%d %H:%M:%S')\n",
    "    return df_update"
   ]
  },
  {
   "cell_type": "code",
   "execution_count": 39,
   "metadata": {},
   "outputs": [],
   "source": [
    "def call_aqi_api():\n",
    "    response = req.get(aqi_url())\n",
    "    data = response.json()\n",
    "    dw = pd.json_normalize(data['list'])\n",
    "    dt = pd.json_normalize(data)\n",
    "    dt = dt.drop('list', axis=1)\n",
    "    df_update = pd.concat([dw,dt],axis=1)\n",
    "    df_update['dt'] = hour_rounder(datetime.utcfromtimestamp(df_update['dt'])).strftime('%Y-%m-%d %H:%M:%S')\n",
    "    return df_update\n"
   ]
  },
  {
   "cell_type": "code",
   "execution_count": 41,
   "metadata": {},
   "outputs": [
    {
     "name": "stderr",
     "output_type": "stream",
     "text": [
      "C:\\Users\\fashaikh\\AppData\\Local\\Temp\\ipykernel_13284\\3978343323.py:9: DeprecationWarning: an integer is required (got type Series).  Implicit conversion to integers using __int__ is deprecated, and may be removed in a future version of Python.\n",
      "  df_update['dt'] = hour_rounder(datetime.utcfromtimestamp(df_update['dt'])).strftime('%Y-%m-%d %H:%M:%S')\n",
      "C:\\Users\\fashaikh\\AppData\\Local\\Temp\\ipykernel_13284\\3978343323.py:10: DeprecationWarning: an integer is required (got type Series).  Implicit conversion to integers using __int__ is deprecated, and may be removed in a future version of Python.\n",
      "  df_update['sys.sunrise'] = datetime.utcfromtimestamp(df_update['sys.sunrise']).strftime('%Y-%m-%d %H:%M:%S')\n",
      "C:\\Users\\fashaikh\\AppData\\Local\\Temp\\ipykernel_13284\\3978343323.py:11: DeprecationWarning: an integer is required (got type Series).  Implicit conversion to integers using __int__ is deprecated, and may be removed in a future version of Python.\n",
      "  df_update['sys.sunset'] = datetime.utcfromtimestamp(df_update['sys.sunset']).strftime('%Y-%m-%d %H:%M:%S')\n",
      "C:\\Users\\fashaikh\\AppData\\Local\\Temp\\ipykernel_13284\\4242008928.py:8: DeprecationWarning: an integer is required (got type Series).  Implicit conversion to integers using __int__ is deprecated, and may be removed in a future version of Python.\n",
      "  df_update['dt'] = hour_rounder(datetime.utcfromtimestamp(df_update['dt'])).strftime('%Y-%m-%d %H:%M:%S')\n"
     ]
    }
   ],
   "source": [
    "df_weather = call_weather_api()\n",
    "df_aqi = call_aqi_api()"
   ]
  },
  {
   "cell_type": "code",
   "execution_count": 48,
   "metadata": {},
   "outputs": [],
   "source": [
    "df_merged = pd.merge(df_weather,df_aqi, on=['dt'])\n",
    "df_merged.to_csv(\"merged.csv\", index=False)"
   ]
  },
  {
   "cell_type": "code",
   "execution_count": 10,
   "metadata": {},
   "outputs": [],
   "source": [
    "def weather_json_csv():\n",
    "    response = req.get(weather_url())\n",
    "    data = response.json()\n",
    "    dw = pd.json_normalize(data['weather'])\n",
    "    dt = pd.json_normalize(data)\n",
    "    dt = dt.drop('weather', axis=1)\n",
    "    df_update = pd.concat([dw,dt],axis=1)\n",
    "    df_update.to_csv(\"weather.csv\",index=False)"
   ]
  },
  {
   "cell_type": "code",
   "execution_count": 11,
   "metadata": {},
   "outputs": [],
   "source": [
    "def aqi_json_csv():\n",
    "    response = req.get(aqi_url())\n",
    "    data = response.json()\n",
    "    dw = pd.json_normalize(data['list'])\n",
    "    dt = pd.json_normalize(data)\n",
    "    dt = dt.drop('list', axis=1)\n",
    "    df_update = pd.concat([dw,dt],axis=1)\n",
    "    df_update.to_csv(\"aqi.csv\",index=False)"
   ]
  },
  {
   "cell_type": "code",
   "execution_count": null,
   "metadata": {},
   "outputs": [],
   "source": []
  }
 ],
 "metadata": {
  "kernelspec": {
   "display_name": "Python 3.9.12 ('base')",
   "language": "python",
   "name": "python3"
  },
  "language_info": {
   "codemirror_mode": {
    "name": "ipython",
    "version": 3
   },
   "file_extension": ".py",
   "mimetype": "text/x-python",
   "name": "python",
   "nbconvert_exporter": "python",
   "pygments_lexer": "ipython3",
   "version": "3.9.12"
  },
  "orig_nbformat": 4,
  "vscode": {
   "interpreter": {
    "hash": "da24c822f958bb83a104dff98dc7b915134eb9cfe2a236abb560fb6bddae8834"
   }
  }
 },
 "nbformat": 4,
 "nbformat_minor": 2
}
