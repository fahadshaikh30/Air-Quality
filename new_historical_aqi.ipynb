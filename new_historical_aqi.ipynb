{
 "cells": [
  {
   "cell_type": "code",
   "execution_count": 1,
   "metadata": {},
   "outputs": [],
   "source": [
    "import pandas as pd\n",
    "from datetime import datetime\n",
    "import asyncio\n",
    "import aiohttp"
   ]
  },
  {
   "cell_type": "code",
   "execution_count": 2,
   "metadata": {},
   "outputs": [],
   "source": [
    "def request_aqi_url(lat, lon, month_start, month_end):\n",
    "\n",
    "    aqi_url = \"http://api.openweathermap.org/data/2.5/air_pollution/history\"\n",
    "    api_key = 'c5d22ed423af74ba40fc97b49c023304'\n",
    "\n",
    "    request_url = f\"{aqi_url}?lat={str(lat)}&lon={str(lon)}&start={str(month_start)}&end={str(month_end)}&appid={api_key}\"\n",
    "\n",
    "    return request_url"
   ]
  },
  {
   "cell_type": "code",
   "execution_count": 3,
   "metadata": {},
   "outputs": [],
   "source": [
    "def hour_rounder(t):\n",
    "    # Rounds down to the nearest hour\n",
    "    return (t.replace(second=0, microsecond=0, minute=0, hour=t.hour))"
   ]
  },
  {
   "cell_type": "code",
   "execution_count": 4,
   "metadata": {},
   "outputs": [],
   "source": [
    "async def fetch(session, url, trt):\n",
    "    async with session.get(url) as response:\n",
    "        json_response = await response.json(content_type=None)\n",
    "        json_response.update({'TRT_ID': trt})\n",
    "        return json_response"
   ]
  },
  {
   "cell_type": "code",
   "execution_count": 5,
   "metadata": {},
   "outputs": [],
   "source": [
    "async def main_aqi(aqi_url_list):\n",
    "    async with aiohttp.ClientSession() as session:\n",
    "        tasks = [fetch(session, url['url'], trt['TRT_ID']) for url, trt in zip(aqi_url_list, aqi_url_list)]\n",
    "        return await asyncio.gather(*tasks)"
   ]
  },
  {
   "cell_type": "code",
   "execution_count": 6,
   "metadata": {},
   "outputs": [],
   "source": [
    "trt_data = pd.read_csv('dimTRTstore.csv', header=0)"
   ]
  },
  {
   "cell_type": "code",
   "execution_count": 7,
   "metadata": {},
   "outputs": [],
   "source": [
    "month_start = int(datetime(2022,4,1,1,0).timestamp())\n",
    "month_end = int(datetime(2022,3,1,0,59,59).timestamp())"
   ]
  },
  {
   "cell_type": "code",
   "execution_count": 8,
   "metadata": {},
   "outputs": [],
   "source": [
    "def aqi_historical_to_parquet(response_list):\n",
    "    dn = pd.json_normalize(response_list, 'list', ['coord', ['coord', 'lon'], ['coord', 'lat'], 'TRT_ID'])\n",
    "    dn = dn.drop(\"coord\", axis=1)\n",
    "    dn['dt'] = dn['dt'].apply(lambda t: hour_rounder(datetime.utcfromtimestamp(t)).strftime('%Y-%m-%d %H:%M:%S'))\n",
    "    aqi_file_name = \"AQI_Historical_Apr_2022.parquet\"\n",
    "    dn.to_parquet(aqi_file_name, index=False)"
   ]
  },
  {
   "cell_type": "code",
   "execution_count": 9,
   "metadata": {},
   "outputs": [],
   "source": [
    "aqi_url_list = []\n",
    "for trt, lat, lon in zip(trt_data[\"TRT_ID\"], trt_data[\"Latitude\"], trt_data[\"Longitude\"]):\n",
    "    aqi_url_list.append({'url': request_aqi_url(lat, lon, month_start, month_end), 'TRT_ID': trt})"
   ]
  },
  {
   "cell_type": "code",
   "execution_count": 10,
   "metadata": {},
   "outputs": [],
   "source": [
    "result_aqi = await main_aqi(aqi_url_list)"
   ]
  },
  {
   "cell_type": "code",
   "execution_count": 11,
   "metadata": {},
   "outputs": [],
   "source": [
    "aqi_historical_to_parquet(result_aqi)"
   ]
  }
 ],
 "metadata": {
  "kernelspec": {
   "display_name": "base",
   "language": "python",
   "name": "python3"
  },
  "language_info": {
   "codemirror_mode": {
    "name": "ipython",
    "version": 3
   },
   "file_extension": ".py",
   "mimetype": "text/x-python",
   "name": "python",
   "nbconvert_exporter": "python",
   "pygments_lexer": "ipython3",
   "version": "3.9.12"
  },
  "orig_nbformat": 4,
  "vscode": {
   "interpreter": {
    "hash": "da24c822f958bb83a104dff98dc7b915134eb9cfe2a236abb560fb6bddae8834"
   }
  }
 },
 "nbformat": 4,
 "nbformat_minor": 2
}
