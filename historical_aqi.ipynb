{
 "cells": [
  {
   "cell_type": "code",
   "execution_count": 1,
   "metadata": {},
   "outputs": [],
   "source": [
    "import pandas as pd\n",
    "import os\n",
    "import requests as req\n",
    "import json\n",
    "import csv\n",
    "import math\n",
    "from datetime import date, datetime, timedelta, timezone\n",
    "import time\n",
    "\n",
    "import asyncio\n",
    "import aiohttp"
   ]
  },
  {
   "cell_type": "code",
   "execution_count": 2,
   "metadata": {},
   "outputs": [],
   "source": [
    "API_KEY = 'c5d22ed423af74ba40fc97b49c023304'"
   ]
  },
  {
   "cell_type": "code",
   "execution_count": 3,
   "metadata": {},
   "outputs": [],
   "source": [
    "trt_data = pd.read_csv('dimTRTstore.csv', header=0)"
   ]
  },
  {
   "cell_type": "code",
   "execution_count": 4,
   "metadata": {},
   "outputs": [
    {
     "data": {
      "text/plain": [
       "1670498280"
      ]
     },
     "execution_count": 4,
     "metadata": {},
     "output_type": "execute_result"
    }
   ],
   "source": [
    "utc_timestamp_now = math.floor(datetime.timestamp(datetime.utcnow()))\n",
    "utc_timestamp_now"
   ]
  },
  {
   "cell_type": "code",
   "execution_count": 6,
   "metadata": {},
   "outputs": [],
   "source": [
    "month_start = int(datetime(2021,1,1,1,0).timestamp())\n",
    "month_end = int(datetime(2021,2,1,0,59,59).timestamp())"
   ]
  },
  {
   "cell_type": "code",
   "execution_count": 5,
   "metadata": {},
   "outputs": [
    {
     "data": {
      "text/plain": [
       "1609459200"
      ]
     },
     "execution_count": 5,
     "metadata": {},
     "output_type": "execute_result"
    }
   ],
   "source": [
    "month_start"
   ]
  },
  {
   "cell_type": "code",
   "execution_count": 7,
   "metadata": {},
   "outputs": [
    {
     "data": {
      "text/plain": [
       "1612137599"
      ]
     },
     "execution_count": 7,
     "metadata": {},
     "output_type": "execute_result"
    }
   ],
   "source": [
    "month_end"
   ]
  },
  {
   "cell_type": "code",
   "execution_count": 14,
   "metadata": {},
   "outputs": [],
   "source": [
    "def hour_rounder(t):\n",
    "    # Rounds down to the nearest hour\n",
    "    return (t.replace(second=0, microsecond=0, minute=0, hour=t.hour))"
   ]
  },
  {
   "cell_type": "code",
   "execution_count": 15,
   "metadata": {},
   "outputs": [],
   "source": [
    "options = {}\n",
    "options[\"aqi_url\"] = \"http://api.openweathermap.org/data/2.5/air_pollution/history\"\n",
    "options[\"start\"] = str(month_start)\n",
    "options[\"end\"] = str(month_end)\n",
    "options[\"api_key\"] = API_KEY"
   ]
  },
  {
   "cell_type": "code",
   "execution_count": 16,
   "metadata": {},
   "outputs": [],
   "source": [
    "# Builds request url to access AQI data from OpenWeather\n",
    "# Params: \n",
    "# lat: latitude of desired location\n",
    "# lon: longitude of desired location\n",
    "# return: request url for aqi\n",
    "\n",
    "def request_aqi_url(lat,lon):\n",
    "\n",
    "    REQUEST_URL = options[\"aqi_url\"] + \"?lat=\" \\\n",
    "    + str(lat) \\\n",
    "    + \"&lon=\" + str(lon) \\\n",
    "    + \"&start=\" + options[\"start\"] \\\n",
    "    + \"&end=\" + options[\"end\"] \\\n",
    "    + \"&appid=\" + options[\"api_key\"]\n",
    "\n",
    "    return REQUEST_URL"
   ]
  },
  {
   "cell_type": "code",
   "execution_count": 17,
   "metadata": {},
   "outputs": [],
   "source": [
    "AQI_URL_LIST = []\n",
    "for lat,lon in zip(trt_data[\"Latitude\"], trt_data[\"Longitude\"]):\n",
    "    AQI_URL_LIST.append(request_aqi_url(lat,lon))"
   ]
  },
  {
   "cell_type": "code",
   "execution_count": 18,
   "metadata": {},
   "outputs": [],
   "source": [
    "async def fetch(session, url):\n",
    "    async with session.get(url) as response:\n",
    "        json_response = await response.json(content_type=None)\n",
    "        await asyncio.sleep(1) # this is to prevent remote host close error\n",
    "        return json_response"
   ]
  },
  {
   "cell_type": "code",
   "execution_count": 19,
   "metadata": {},
   "outputs": [],
   "source": [
    "async def main_aqi(urls):\n",
    "    async with aiohttp.ClientSession() as session:\n",
    "        tasks = [fetch(session, url) for url in AQI_URL_LIST]\n",
    "        return await asyncio.gather(*tasks)"
   ]
  },
  {
   "cell_type": "code",
   "execution_count": 21,
   "metadata": {},
   "outputs": [],
   "source": [
    "result_aqi = await main_aqi(AQI_URL_LIST)"
   ]
  },
  {
   "cell_type": "code",
   "execution_count": 22,
   "metadata": {},
   "outputs": [],
   "source": [
    "def aqi_historical_to_parquet(response_list):\n",
    "    dn = pd.json_normalize(result_aqi, 'list', ['coord', ['coord', 'lon'], ['coord', 'lat']])\n",
    "    dn = dn.drop(\"coord\", axis=1)\n",
    "    dn['dt'] = dn['dt'].apply(lambda t: hour_rounder(datetime.utcfromtimestamp(t)).strftime('%Y-%m-%d %H:%M:%S'))\n",
    "    aqi_file_name = \"AQI_Historical_Nov_2022.parquet\"\n",
    "    dn.to_parquet(aqi_file_name, index=False)"
   ]
  },
  {
   "cell_type": "code",
   "execution_count": 23,
   "metadata": {},
   "outputs": [],
   "source": [
    "aqi_historical_to_parquet(result_aqi)"
   ]
  }
 ],
 "metadata": {
  "kernelspec": {
   "display_name": "Python 3.9.12 ('base')",
   "language": "python",
   "name": "python3"
  },
  "language_info": {
   "codemirror_mode": {
    "name": "ipython",
    "version": 3
   },
   "file_extension": ".py",
   "mimetype": "text/x-python",
   "name": "python",
   "nbconvert_exporter": "python",
   "pygments_lexer": "ipython3",
   "version": "3.9.12 (main, Apr  4 2022, 05:22:27) [MSC v.1916 64 bit (AMD64)]"
  },
  "orig_nbformat": 4,
  "vscode": {
   "interpreter": {
    "hash": "da24c822f958bb83a104dff98dc7b915134eb9cfe2a236abb560fb6bddae8834"
   }
  }
 },
 "nbformat": 4,
 "nbformat_minor": 2
}
