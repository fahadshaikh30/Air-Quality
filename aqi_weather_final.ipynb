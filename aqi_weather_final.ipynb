{
 "cells": [
  {
   "cell_type": "markdown",
   "metadata": {},
   "source": [
    "Work Flow:\n",
    "0. Call Airnow API for latitude and longitude data\n",
    "1. Call Weather API and Air Pollution API from OpenWeather\n",
    "2. Transform the json responses, convert to DataFrame and save as csv file on local directory\n",
    "\n",
    "Next Steps:\n",
    "0. Figure out a way to get latitude and longitude data of all desired locations\n",
    "1. Schedule hourly calls to both APIs in parallel (virtual environment, multi threads)\n",
    "2. Set up a database (or use existing one) and establish a pipeline to populate the database on an hourly basis\n",
    "3. Connect database to Power BI dashboards and visualize the data\n",
    "4. Use the database to perform machine learning tasks\n",
    "5. Set up a notification system for alerts\n",
    "\n",
    "Currently using student license for OpenWeather (valid only for 6 months) that allows 3000 calls/min. Free version allows 60 calls/min\n",
    "Extracting weather data from api according to the latitude and longitude of the Airnow AQI data"
   ]
  },
  {
   "cell_type": "code",
   "execution_count": 1,
   "metadata": {},
   "outputs": [],
   "source": [
    "import pandas as pd\n",
    "import os\n",
    "import requests as req\n",
    "import json\n",
    "import csv\n",
    "from datetime import datetime, timedelta\n",
    "from datetime import date"
   ]
  },
  {
   "cell_type": "code",
   "execution_count": 2,
   "metadata": {},
   "outputs": [],
   "source": [
    "# OpenWeather API Key\n",
    "API_KEY = '6dc507f5ca3f2dac7486e5037f6c9f89'"
   ]
  },
  {
   "cell_type": "code",
   "execution_count": 3,
   "metadata": {},
   "outputs": [],
   "source": [
    "data_frame = pd.read_csv('dimTRTstore.csv', header=0)"
   ]
  },
  {
   "cell_type": "code",
   "execution_count": 4,
   "metadata": {},
   "outputs": [],
   "source": [
    "# API Parameters\n",
    "options = {}\n",
    "options[\"aqi_url\"] = \"http://api.openweathermap.org/data/2.5/air_pollution\"\n",
    "options[\"weather_url\"] = \"https://api.openweathermap.org/data/2.5/weather\"\n",
    "options[\"units\"] = \"metric\"\n",
    "options[\"api_key\"] = API_KEY"
   ]
  },
  {
   "cell_type": "code",
   "execution_count": 5,
   "metadata": {},
   "outputs": [],
   "source": [
    "def hour_rounder(t):\n",
    "    # Rounds down to the nearest hour\n",
    "    return (t.replace(second=0, microsecond=0, minute=0, hour=t.hour))"
   ]
  },
  {
   "cell_type": "code",
   "execution_count": 6,
   "metadata": {},
   "outputs": [],
   "source": [
    "# Builds request url to access weather data from OpenWeather\n",
    "# Params: \n",
    "# lat: latitude of desired location\n",
    "# lon: longitude of desired location\n",
    "# return: request url for weather\n",
    "\n",
    "def request_weather_url(lat,lon):\n",
    "\n",
    "    REQUEST_URL = options[\"weather_url\"] + \"?lat=\" \\\n",
    "    + str(lat) \\\n",
    "    + \"&lon=\" + str(lon) \\\n",
    "    + \"&appid=\" + options[\"api_key\"] \\\n",
    "    + \"&units=\" + options[\"units\"]\n",
    "\n",
    "    return REQUEST_URL"
   ]
  },
  {
   "cell_type": "code",
   "execution_count": null,
   "metadata": {},
   "outputs": [],
   "source": [
    "# Builds request url to access AQI data from OpenWeather\n",
    "# Params: \n",
    "# lat: latitude of desired location\n",
    "# lon: longitude of desired location\n",
    "# return: request url for aqi\n",
    "\n",
    "# def request_aqi_url(lat,lon):\n",
    "\n",
    "#     REQUEST_URL = options[\"aqi_url\"] + \"?lat=\" \\\n",
    "#     + str(lat) \\\n",
    "#     + \"&lon=\" + str(lon) \\\n",
    "#     + \"&appid=\" + options[\"api_key\"]\n",
    "\n",
    "#     return REQUEST_URL"
   ]
  },
  {
   "cell_type": "code",
   "execution_count": 8,
   "metadata": {},
   "outputs": [],
   "source": [
    "WEATHER_URL_LIST = []\n",
    "#AQI_URL_LIST = []\n",
    "for lat,lon in zip(data_frame[\"Latitude\"], data_frame[\"Longitude\"]):\n",
    "    WEATHER_URL_LIST.append(request_weather_url(lat,lon))\n",
    "    #AQI_URL_LIST.append(request_aqi_url(lat,lon))"
   ]
  },
  {
   "cell_type": "code",
   "execution_count": 9,
   "metadata": {},
   "outputs": [],
   "source": [
    "weather_list = []\n",
    "aqi_list = []"
   ]
  },
  {
   "cell_type": "code",
   "execution_count": 10,
   "metadata": {},
   "outputs": [],
   "source": [
    "def api_call(url):\n",
    "    response = req.get(url)\n",
    "    data = response.json()\n",
    "    return data"
   ]
  },
  {
   "cell_type": "code",
   "execution_count": 11,
   "metadata": {},
   "outputs": [],
   "source": [
    "def weather_loop():\n",
    "    for url in WEATHER_URL_LIST:\n",
    "        data_weather = api_call(url)\n",
    "        weather_list.append(data_weather)"
   ]
  },
  {
   "cell_type": "code",
   "execution_count": 12,
   "metadata": {},
   "outputs": [],
   "source": [
    "def aqi_loop():\n",
    "    for url in AQI_URL_LIST:\n",
    "        data_aqi = api_call(url)\n",
    "        aqi_list.append(data_aqi)"
   ]
  },
  {
   "cell_type": "code",
   "execution_count": 13,
   "metadata": {},
   "outputs": [],
   "source": [
    "weather_loop()"
   ]
  },
  {
   "cell_type": "code",
   "execution_count": 15,
   "metadata": {},
   "outputs": [
    {
     "name": "stdout",
     "output_type": "stream",
     "text": [
      "time taken for weather 22m 37.4s\n"
     ]
    }
   ],
   "source": [
    "print(\"time taken for weather 22m 37.4s\")"
   ]
  },
  {
   "cell_type": "code",
   "execution_count": 14,
   "metadata": {},
   "outputs": [],
   "source": [
    "aqi_loop()"
   ]
  },
  {
   "cell_type": "code",
   "execution_count": 16,
   "metadata": {},
   "outputs": [
    {
     "name": "stdout",
     "output_type": "stream",
     "text": [
      "time taken for aqi 10m 23.1s\n"
     ]
    }
   ],
   "source": [
    "print(\"time taken for aqi 10m 23.1s\")"
   ]
  },
  {
   "cell_type": "code",
   "execution_count": 17,
   "metadata": {},
   "outputs": [],
   "source": [
    "def weather_to_csv():\n",
    "    dw = pd.json_normalize(weather_list, 'weather', record_prefix='weather.')\n",
    "    dn = pd.json_normalize(weather_list)\n",
    "    dn = dn.drop('weather', axis=1)\n",
    "    dn['dt'] = dn['dt'].apply(lambda t: hour_rounder(datetime.utcfromtimestamp(t)).strftime('%Y-%m-%d %H:%M:%S'))\n",
    "    dn['sys.sunrise'] = dn['sys.sunrise'].apply(lambda t: datetime.utcfromtimestamp(t).strftime('%Y-%m-%d %H:%M:%S'))\n",
    "    dn['sys.sunset'] = dn['sys.sunset'].apply(lambda t: datetime.utcfromtimestamp(t).strftime('%Y-%m-%d %H:%M:%S'))\n",
    "    df_update = pd.concat([dn,dw], axis=1)\n",
    "    weather_file_name = \"Weather\" + datetime.now().strftime(\"_%Y%m%d%H%M%S.csv\")\n",
    "    df_update.to_csv(weather_file_name, index=False)"
   ]
  },
  {
   "cell_type": "code",
   "execution_count": 18,
   "metadata": {},
   "outputs": [],
   "source": [
    "def aqi_to_csv():\n",
    "    dw = pd.json_normalize(aqi_list, 'list', record_prefix='aqi.')\n",
    "    dn = pd.json_normalize(aqi_list)\n",
    "    dw['aqi.dt'] = dw['aqi.dt'].apply(lambda t: hour_rounder(datetime.utcfromtimestamp(t)).strftime('%Y-%m-%d %H:%M:%S'))\n",
    "    dn = dn.drop('list', axis=1)\n",
    "    df = pd.concat([dn,dw], axis=1)\n",
    "    aqi_file_name = \"AQI\" + datetime.now().strftime(\"_%Y%m%d%H%M%S.csv\")\n",
    "    df.to_csv(aqi_file_name, index=False)\n"
   ]
  },
  {
   "cell_type": "code",
   "execution_count": 19,
   "metadata": {},
   "outputs": [],
   "source": [
    "weather_to_csv()\n",
    "aqi_to_csv()"
   ]
  },
  {
   "cell_type": "code",
   "execution_count": null,
   "metadata": {},
   "outputs": [],
   "source": []
  }
 ],
 "metadata": {
  "kernelspec": {
   "display_name": "Python 3.9.12 ('base')",
   "language": "python",
   "name": "python3"
  },
  "language_info": {
   "codemirror_mode": {
    "name": "ipython",
    "version": 3
   },
   "file_extension": ".py",
   "mimetype": "text/x-python",
   "name": "python",
   "nbconvert_exporter": "python",
   "pygments_lexer": "ipython3",
   "version": "3.9.12 (main, Apr  4 2022, 05:22:27) [MSC v.1916 64 bit (AMD64)]"
  },
  "orig_nbformat": 4,
  "vscode": {
   "interpreter": {
    "hash": "da24c822f958bb83a104dff98dc7b915134eb9cfe2a236abb560fb6bddae8834"
   }
  }
 },
 "nbformat": 4,
 "nbformat_minor": 2
}
