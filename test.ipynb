{
 "cells": [
  {
   "cell_type": "code",
   "execution_count": 1,
   "metadata": {},
   "outputs": [],
   "source": [
    "import pandas as pd\n",
    "import os\n",
    "import requests as req\n",
    "import json\n",
    "import csv\n",
    "from datetime import datetime, timedelta\n",
    "from datetime import date"
   ]
  },
  {
   "cell_type": "code",
   "execution_count": 2,
   "metadata": {},
   "outputs": [],
   "source": [
    "data_frame = pd.read_csv(\"testfile.csv\", header=None)"
   ]
  },
  {
   "cell_type": "code",
   "execution_count": 3,
   "metadata": {},
   "outputs": [],
   "source": [
    "def request_url(lat,lon):\n",
    "\n",
    "    options = {}\n",
    "    options[\"url\"] = \"https://api.openweathermap.org/data/2.5/weather\"\n",
    "    options[\"lat\"] = str(lat)\n",
    "    options[\"lon\"] = str(lon)\n",
    "    options[\"units\"] = \"metric\"\n",
    "    options[\"api_key\"] = \"c5d22ed423af74ba40fc97b49c023304\"\n",
    "\n",
    "    REQUEST_URL = options[\"url\"] + \"?lat=\" \\\n",
    "    + options[\"lat\"] \\\n",
    "    + \"&lon=\" + options[\"lon\"] \\\n",
    "    + \"&appid=\" + options[\"api_key\"] \\\n",
    "    + \"&units=\" + options[\"units\"]\n",
    "\n",
    "    return REQUEST_URL"
   ]
  },
  {
   "cell_type": "code",
   "execution_count": 9,
   "metadata": {},
   "outputs": [],
   "source": [
    "weather_list = list()\n",
    "response = req.get(request_url(data_frame[0][0], data_frame[1][0]))\n",
    "data = response.json()\n",
    "#weather_list.append(data)"
   ]
  },
  {
   "cell_type": "code",
   "execution_count": 10,
   "metadata": {},
   "outputs": [
    {
     "data": {
      "text/plain": [
       "{'coord': {'lon': -157.8581, 'lat': 21.3103},\n",
       " 'weather': [{'id': 802,\n",
       "   'main': 'Clouds',\n",
       "   'description': 'scattered clouds',\n",
       "   'icon': '03n'}],\n",
       " 'base': 'stations',\n",
       " 'main': {'temp': 21.97,\n",
       "  'feels_like': 22.55,\n",
       "  'temp_min': 20.9,\n",
       "  'temp_max': 23.31,\n",
       "  'pressure': 1013,\n",
       "  'humidity': 89},\n",
       " 'visibility': 10000,\n",
       " 'wind': {'speed': 0.89, 'deg': 227, 'gust': 1.79},\n",
       " 'clouds': {'all': 40},\n",
       " 'dt': 1669912870,\n",
       " 'sys': {'type': 1,\n",
       "  'id': 7878,\n",
       "  'country': 'US',\n",
       "  'sunrise': 1669913574,\n",
       "  'sunset': 1669952918},\n",
       " 'timezone': -36000,\n",
       " 'id': 5856195,\n",
       " 'name': 'Honolulu',\n",
       " 'cod': 200}"
      ]
     },
     "execution_count": 10,
     "metadata": {},
     "output_type": "execute_result"
    }
   ],
   "source": [
    "data"
   ]
  },
  {
   "cell_type": "code",
   "execution_count": 5,
   "metadata": {},
   "outputs": [
    {
     "ename": "ValueError",
     "evalue": "Mixing dicts with non-Series may lead to ambiguous ordering.",
     "output_type": "error",
     "traceback": [
      "\u001b[1;31m---------------------------------------------------------------------------\u001b[0m",
      "\u001b[1;31mValueError\u001b[0m                                Traceback (most recent call last)",
      "\u001b[1;32mc:\\Users\\fashaikh\\Desktop\\AQI\\test.ipynb Cell 5\u001b[0m in \u001b[0;36m<cell line: 1>\u001b[1;34m()\u001b[0m\n\u001b[1;32m----> <a href='vscode-notebook-cell:/c%3A/Users/fashaikh/Desktop/AQI/test.ipynb#X13sZmlsZQ%3D%3D?line=0'>1</a>\u001b[0m df \u001b[39m=\u001b[39m pd\u001b[39m.\u001b[39;49mDataFrame\u001b[39m.\u001b[39;49mfrom_records(data)\n",
      "File \u001b[1;32mc:\\Users\\fashaikh\\Anaconda3\\lib\\site-packages\\pandas\\core\\frame.py:2273\u001b[0m, in \u001b[0;36mDataFrame.from_records\u001b[1;34m(cls, data, index, exclude, columns, coerce_float, nrows)\u001b[0m\n\u001b[0;32m   2270\u001b[0m     columns \u001b[39m=\u001b[39m columns\u001b[39m.\u001b[39mdrop(exclude)\n\u001b[0;32m   2272\u001b[0m manager \u001b[39m=\u001b[39m get_option(\u001b[39m\"\u001b[39m\u001b[39mmode.data_manager\u001b[39m\u001b[39m\"\u001b[39m)\n\u001b[1;32m-> 2273\u001b[0m mgr \u001b[39m=\u001b[39m arrays_to_mgr(arrays, columns, result_index, typ\u001b[39m=\u001b[39;49mmanager)\n\u001b[0;32m   2275\u001b[0m \u001b[39mreturn\u001b[39;00m \u001b[39mcls\u001b[39m(mgr)\n",
      "File \u001b[1;32mc:\\Users\\fashaikh\\Anaconda3\\lib\\site-packages\\pandas\\core\\internals\\construction.py:120\u001b[0m, in \u001b[0;36marrays_to_mgr\u001b[1;34m(arrays, columns, index, dtype, verify_integrity, typ, consolidate)\u001b[0m\n\u001b[0;32m    117\u001b[0m \u001b[39mif\u001b[39;00m verify_integrity:\n\u001b[0;32m    118\u001b[0m     \u001b[39m# figure out the index, if necessary\u001b[39;00m\n\u001b[0;32m    119\u001b[0m     \u001b[39mif\u001b[39;00m index \u001b[39mis\u001b[39;00m \u001b[39mNone\u001b[39;00m:\n\u001b[1;32m--> 120\u001b[0m         index \u001b[39m=\u001b[39m _extract_index(arrays)\n\u001b[0;32m    121\u001b[0m     \u001b[39melse\u001b[39;00m:\n\u001b[0;32m    122\u001b[0m         index \u001b[39m=\u001b[39m ensure_index(index)\n",
      "File \u001b[1;32mc:\\Users\\fashaikh\\Anaconda3\\lib\\site-packages\\pandas\\core\\internals\\construction.py:677\u001b[0m, in \u001b[0;36m_extract_index\u001b[1;34m(data)\u001b[0m\n\u001b[0;32m    674\u001b[0m     \u001b[39mraise\u001b[39;00m \u001b[39mValueError\u001b[39;00m(\u001b[39m\"\u001b[39m\u001b[39mAll arrays must be of the same length\u001b[39m\u001b[39m\"\u001b[39m)\n\u001b[0;32m    676\u001b[0m \u001b[39mif\u001b[39;00m have_dicts:\n\u001b[1;32m--> 677\u001b[0m     \u001b[39mraise\u001b[39;00m \u001b[39mValueError\u001b[39;00m(\n\u001b[0;32m    678\u001b[0m         \u001b[39m\"\u001b[39m\u001b[39mMixing dicts with non-Series may lead to ambiguous ordering.\u001b[39m\u001b[39m\"\u001b[39m\n\u001b[0;32m    679\u001b[0m     )\n\u001b[0;32m    681\u001b[0m \u001b[39mif\u001b[39;00m have_series:\n\u001b[0;32m    682\u001b[0m     \u001b[39massert\u001b[39;00m index \u001b[39mis\u001b[39;00m \u001b[39mnot\u001b[39;00m \u001b[39mNone\u001b[39;00m  \u001b[39m# for mypy\u001b[39;00m\n",
      "\u001b[1;31mValueError\u001b[0m: Mixing dicts with non-Series may lead to ambiguous ordering."
     ]
    }
   ],
   "source": [
    "df = pd.DataFrame.from_records(data)"
   ]
  },
  {
   "cell_type": "code",
   "execution_count": 10,
   "metadata": {},
   "outputs": [],
   "source": [
    "response = req.get(request_url(data_frame[0][1], data_frame[1][1]))\n",
    "data = response.json()\n",
    "weather_list.append(data)"
   ]
  },
  {
   "cell_type": "code",
   "execution_count": 47,
   "metadata": {},
   "outputs": [
    {
     "data": {
      "text/html": [
       "<div>\n",
       "<style scoped>\n",
       "    .dataframe tbody tr th:only-of-type {\n",
       "        vertical-align: middle;\n",
       "    }\n",
       "\n",
       "    .dataframe tbody tr th {\n",
       "        vertical-align: top;\n",
       "    }\n",
       "\n",
       "    .dataframe thead th {\n",
       "        text-align: right;\n",
       "    }\n",
       "</style>\n",
       "<table border=\"1\" class=\"dataframe\">\n",
       "  <thead>\n",
       "    <tr style=\"text-align: right;\">\n",
       "      <th></th>\n",
       "      <th>weather</th>\n",
       "      <th>base</th>\n",
       "      <th>visibility</th>\n",
       "      <th>dt</th>\n",
       "      <th>timezone</th>\n",
       "      <th>id</th>\n",
       "      <th>name</th>\n",
       "      <th>cod</th>\n",
       "      <th>coord.lon</th>\n",
       "      <th>coord.lat</th>\n",
       "      <th>...</th>\n",
       "      <th>main.pressure</th>\n",
       "      <th>main.humidity</th>\n",
       "      <th>wind.speed</th>\n",
       "      <th>wind.deg</th>\n",
       "      <th>clouds.all</th>\n",
       "      <th>sys.type</th>\n",
       "      <th>sys.id</th>\n",
       "      <th>sys.country</th>\n",
       "      <th>sys.sunrise</th>\n",
       "      <th>sys.sunset</th>\n",
       "    </tr>\n",
       "  </thead>\n",
       "  <tbody>\n",
       "    <tr>\n",
       "      <th>0</th>\n",
       "      <td>[{'id': 801, 'main': 'Clouds', 'description': ...</td>\n",
       "      <td>stations</td>\n",
       "      <td>10000</td>\n",
       "      <td>1663688130</td>\n",
       "      <td>-36000</td>\n",
       "      <td>5856195</td>\n",
       "      <td>Honolulu</td>\n",
       "      <td>200</td>\n",
       "      <td>-157.8581</td>\n",
       "      <td>21.3103</td>\n",
       "      <td>...</td>\n",
       "      <td>1014</td>\n",
       "      <td>71</td>\n",
       "      <td>7.72</td>\n",
       "      <td>50</td>\n",
       "      <td>20</td>\n",
       "      <td>1</td>\n",
       "      <td>7878</td>\n",
       "      <td>US</td>\n",
       "      <td>1663690787</td>\n",
       "      <td>1663734592</td>\n",
       "    </tr>\n",
       "    <tr>\n",
       "      <th>1</th>\n",
       "      <td>[{'id': 801, 'main': 'Clouds', 'description': ...</td>\n",
       "      <td>stations</td>\n",
       "      <td>10000</td>\n",
       "      <td>1663688162</td>\n",
       "      <td>-36000</td>\n",
       "      <td>5850871</td>\n",
       "      <td>Maui County</td>\n",
       "      <td>200</td>\n",
       "      <td>-156.4924</td>\n",
       "      <td>20.8694</td>\n",
       "      <td>...</td>\n",
       "      <td>1014</td>\n",
       "      <td>73</td>\n",
       "      <td>7.72</td>\n",
       "      <td>40</td>\n",
       "      <td>20</td>\n",
       "      <td>2</td>\n",
       "      <td>19170</td>\n",
       "      <td>US</td>\n",
       "      <td>1663690462</td>\n",
       "      <td>1663734262</td>\n",
       "    </tr>\n",
       "  </tbody>\n",
       "</table>\n",
       "<p>2 rows × 24 columns</p>\n",
       "</div>"
      ],
      "text/plain": [
       "                                             weather      base  visibility  \\\n",
       "0  [{'id': 801, 'main': 'Clouds', 'description': ...  stations       10000   \n",
       "1  [{'id': 801, 'main': 'Clouds', 'description': ...  stations       10000   \n",
       "\n",
       "           dt  timezone       id         name  cod  coord.lon  coord.lat  ...  \\\n",
       "0  1663688130    -36000  5856195     Honolulu  200  -157.8581    21.3103  ...   \n",
       "1  1663688162    -36000  5850871  Maui County  200  -156.4924    20.8694  ...   \n",
       "\n",
       "   main.pressure  main.humidity  wind.speed  wind.deg  clouds.all  sys.type  \\\n",
       "0           1014             71        7.72        50          20         1   \n",
       "1           1014             73        7.72        40          20         2   \n",
       "\n",
       "   sys.id  sys.country  sys.sunrise  sys.sunset  \n",
       "0    7878           US   1663690787  1663734592  \n",
       "1   19170           US   1663690462  1663734262  \n",
       "\n",
       "[2 rows x 24 columns]"
      ]
     },
     "execution_count": 47,
     "metadata": {},
     "output_type": "execute_result"
    }
   ],
   "source": [
    "df = pd.json_normalize(weather_list)\n",
    "df.head()\n"
   ]
  },
  {
   "cell_type": "code",
   "execution_count": 48,
   "metadata": {},
   "outputs": [
    {
     "data": {
      "text/html": [
       "<div>\n",
       "<style scoped>\n",
       "    .dataframe tbody tr th:only-of-type {\n",
       "        vertical-align: middle;\n",
       "    }\n",
       "\n",
       "    .dataframe tbody tr th {\n",
       "        vertical-align: top;\n",
       "    }\n",
       "\n",
       "    .dataframe thead th {\n",
       "        text-align: right;\n",
       "    }\n",
       "</style>\n",
       "<table border=\"1\" class=\"dataframe\">\n",
       "  <thead>\n",
       "    <tr style=\"text-align: right;\">\n",
       "      <th></th>\n",
       "      <th>id</th>\n",
       "      <th>main</th>\n",
       "      <th>description</th>\n",
       "      <th>icon</th>\n",
       "    </tr>\n",
       "  </thead>\n",
       "  <tbody>\n",
       "    <tr>\n",
       "      <th>0</th>\n",
       "      <td>801</td>\n",
       "      <td>Clouds</td>\n",
       "      <td>few clouds</td>\n",
       "      <td>02n</td>\n",
       "    </tr>\n",
       "  </tbody>\n",
       "</table>\n",
       "</div>"
      ],
      "text/plain": [
       "    id    main description icon\n",
       "0  801  Clouds  few clouds  02n"
      ]
     },
     "execution_count": 48,
     "metadata": {},
     "output_type": "execute_result"
    }
   ],
   "source": [
    "dw = pd.json_normalize(weather_list[0]['weather'])\n",
    "dw.head()"
   ]
  },
  {
   "cell_type": "code",
   "execution_count": 46,
   "metadata": {},
   "outputs": [
    {
     "data": {
      "text/plain": [
       "[{'coord': {'lon': -157.8581, 'lat': 21.3103},\n",
       "  'weather': [{'id': 801,\n",
       "    'main': 'Clouds',\n",
       "    'description': 'few clouds',\n",
       "    'icon': '02n'}],\n",
       "  'base': 'stations',\n",
       "  'main': {'temp': 25.11,\n",
       "   'feels_like': 25.53,\n",
       "   'temp_min': 23.9,\n",
       "   'temp_max': 25.9,\n",
       "   'pressure': 1014,\n",
       "   'humidity': 71},\n",
       "  'visibility': 10000,\n",
       "  'wind': {'speed': 7.72, 'deg': 50},\n",
       "  'clouds': {'all': 20},\n",
       "  'dt': 1663688130,\n",
       "  'sys': {'type': 1,\n",
       "   'id': 7878,\n",
       "   'country': 'US',\n",
       "   'sunrise': 1663690787,\n",
       "   'sunset': 1663734592},\n",
       "  'timezone': -36000,\n",
       "  'id': 5856195,\n",
       "  'name': 'Honolulu',\n",
       "  'cod': 200},\n",
       " {'coord': {'lon': -156.4924, 'lat': 20.8694},\n",
       "  'weather': [{'id': 801,\n",
       "    'main': 'Clouds',\n",
       "    'description': 'few clouds',\n",
       "    'icon': '02n'}],\n",
       "  'base': 'stations',\n",
       "  'main': {'temp': 24.76,\n",
       "   'feels_like': 25.2,\n",
       "   'temp_min': 20.25,\n",
       "   'temp_max': 25.67,\n",
       "   'pressure': 1014,\n",
       "   'humidity': 73},\n",
       "  'visibility': 10000,\n",
       "  'wind': {'speed': 7.72, 'deg': 40},\n",
       "  'clouds': {'all': 20},\n",
       "  'dt': 1663688162,\n",
       "  'sys': {'type': 2,\n",
       "   'id': 19170,\n",
       "   'country': 'US',\n",
       "   'sunrise': 1663690462,\n",
       "   'sunset': 1663734262},\n",
       "  'timezone': -36000,\n",
       "  'id': 5850871,\n",
       "  'name': 'Maui County',\n",
       "  'cod': 200}]"
      ]
     },
     "execution_count": 46,
     "metadata": {},
     "output_type": "execute_result"
    }
   ],
   "source": [
    "weather_list"
   ]
  },
  {
   "cell_type": "code",
   "execution_count": 12,
   "metadata": {},
   "outputs": [],
   "source": [
    "df = pd.json_normalize(df)"
   ]
  },
  {
   "cell_type": "code",
   "execution_count": null,
   "metadata": {},
   "outputs": [],
   "source": []
  }
 ],
 "metadata": {
  "kernelspec": {
   "display_name": "Python 3.9.12 ('base')",
   "language": "python",
   "name": "python3"
  },
  "language_info": {
   "codemirror_mode": {
    "name": "ipython",
    "version": 3
   },
   "file_extension": ".py",
   "mimetype": "text/x-python",
   "name": "python",
   "nbconvert_exporter": "python",
   "pygments_lexer": "ipython3",
   "version": "3.9.12 (main, Apr  4 2022, 05:22:27) [MSC v.1916 64 bit (AMD64)]"
  },
  "orig_nbformat": 4,
  "vscode": {
   "interpreter": {
    "hash": "da24c822f958bb83a104dff98dc7b915134eb9cfe2a236abb560fb6bddae8834"
   }
  }
 },
 "nbformat": 4,
 "nbformat_minor": 2
}
