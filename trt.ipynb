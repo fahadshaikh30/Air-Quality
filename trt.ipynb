{
 "cells": [
  {
   "cell_type": "markdown",
   "metadata": {},
   "source": [
    "Connect to trt table in mysql database and save TRT locations in csv file"
   ]
  },
  {
   "cell_type": "code",
   "execution_count": 15,
   "metadata": {},
   "outputs": [],
   "source": [
    "import pyodbc\n",
    "import pandas as pd"
   ]
  },
  {
   "cell_type": "code",
   "execution_count": 16,
   "metadata": {},
   "outputs": [],
   "source": [
    "conn = pyodbc.connect('Driver={SQL Server};'\n",
    "                      'Server=EDWPRDRPTDB;'\n",
    "                      'Database=EDW;'\n",
    "                      'Trusted_Connection=yes;')    "
   ]
  },
  {
   "cell_type": "code",
   "execution_count": 21,
   "metadata": {},
   "outputs": [
    {
     "name": "stderr",
     "output_type": "stream",
     "text": [
      "c:\\Users\\fashaikh\\Anaconda3\\lib\\site-packages\\pandas\\io\\sql.py:761: UserWarning: pandas only support SQLAlchemy connectable(engine/connection) ordatabase string URI or sqlite3 DBAPI2 connectionother DBAPI2 objects are not tested, please consider using SQLAlchemy\n",
      "  warnings.warn(\n"
     ]
    }
   ],
   "source": [
    "df = pd.read_sql_query('SELECT * from EDW.dimTRTstore', conn)"
   ]
  },
  {
   "cell_type": "code",
   "execution_count": 22,
   "metadata": {},
   "outputs": [],
   "source": [
    "df.drop_duplicates(subset=['Latitude', 'Longitude'], inplace=True)"
   ]
  },
  {
   "cell_type": "code",
   "execution_count": 23,
   "metadata": {},
   "outputs": [],
   "source": [
    "# Select open TRT in the US that are not Charging or Parking locations\n",
    "\n",
    "df = df[df['Status'] == 'Open']\n",
    "df = df[df['Country'] == 'US']\n",
    "#df = df[df['Latitude'] != 0]\n",
    "#df = df[df['Latitude'].notna()]"
   ]
  },
  {
   "cell_type": "code",
   "execution_count": 24,
   "metadata": {},
   "outputs": [
    {
     "data": {
      "text/plain": [
       "-99.901813     2\n",
       "-119.353754    2\n",
       "-74.006017     2\n",
       "-111.093731    2\n",
       "-122.057821    2\n",
       "              ..\n",
       "-123.187499    1\n",
       "-81.934763     1\n",
       "-112.103895    1\n",
       "-70.930377     1\n",
       "-117.097588    1\n",
       "Name: Longitude, Length: 8261, dtype: int64"
      ]
     },
     "execution_count": 24,
     "metadata": {},
     "output_type": "execute_result"
    }
   ],
   "source": [
    "df['Longitude'].value_counts(dropna=False)"
   ]
  },
  {
   "cell_type": "code",
   "execution_count": 25,
   "metadata": {},
   "outputs": [],
   "source": [
    "\n",
    "df = df[df['Types_360'] != 'Parking']"
   ]
  },
  {
   "cell_type": "code",
   "execution_count": 26,
   "metadata": {},
   "outputs": [],
   "source": [
    "df = df[df['Types_360'] != 'Charging']"
   ]
  },
  {
   "cell_type": "code",
   "execution_count": 27,
   "metadata": {},
   "outputs": [
    {
     "data": {
      "text/plain": [
       "2686"
      ]
     },
     "execution_count": 27,
     "metadata": {},
     "output_type": "execute_result"
    }
   ],
   "source": [
    "len(df)"
   ]
  },
  {
   "cell_type": "code",
   "execution_count": 28,
   "metadata": {},
   "outputs": [
    {
     "data": {
      "text/plain": [
       "Vendor                                      1120\n",
       "Support                                      259\n",
       "Facilities                                   215\n",
       "Charging,Tesla Center                        211\n",
       "Tesla Center                                 189\n",
       "Facilities,Support                            10\n",
       "Parking,Tesla Center                           7\n",
       "Support,Tesla Center                           7\n",
       "Charging,Support,Tesla Center                  7\n",
       "Charging,Facilities,Tesla Center               5\n",
       "Facilities,Tesla Center                        5\n",
       "Parking,Support                                5\n",
       "Facilities,Parking                             5\n",
       "Charging,Facilities                            2\n",
       "Facilities,Support,Tesla Center                2\n",
       "Tesla Center,Vendor                            2\n",
       "Charging,Facilities,Support                    1\n",
       "Charging,Parking,Tesla Center                  1\n",
       "Charging,Facilities,Support,Tesla Center       1\n",
       "Charging,Support                               1\n",
       "Parking,Vendor                                 1\n",
       "Name: Types_360, dtype: int64"
      ]
     },
     "execution_count": 28,
     "metadata": {},
     "output_type": "execute_result"
    }
   ],
   "source": [
    "df['Types_360'].value_counts()"
   ]
  },
  {
   "cell_type": "code",
   "execution_count": 29,
   "metadata": {},
   "outputs": [],
   "source": [
    "dtrt = df.loc[:, ['TRT_ID', 'Latitude', 'Longitude', 'System_Name']]"
   ]
  },
  {
   "cell_type": "code",
   "execution_count": null,
   "metadata": {},
   "outputs": [],
   "source": [
    "dtrt.to_parquet(\"dimTRTstore.parquet\", index=False)"
   ]
  },
  {
   "cell_type": "code",
   "execution_count": 30,
   "metadata": {},
   "outputs": [],
   "source": [
    "dtrt.to_csv(\"dimTRTstore.csv\", index=False)"
   ]
  },
  {
   "cell_type": "code",
   "execution_count": 31,
   "metadata": {},
   "outputs": [],
   "source": [
    "conn.close()"
   ]
  },
  {
   "cell_type": "code",
   "execution_count": null,
   "metadata": {},
   "outputs": [],
   "source": []
  }
 ],
 "metadata": {
  "kernelspec": {
   "display_name": "Python 3.9.12 ('base')",
   "language": "python",
   "name": "python3"
  },
  "language_info": {
   "codemirror_mode": {
    "name": "ipython",
    "version": 3
   },
   "file_extension": ".py",
   "mimetype": "text/x-python",
   "name": "python",
   "nbconvert_exporter": "python",
   "pygments_lexer": "ipython3",
   "version": "3.9.12"
  },
  "orig_nbformat": 4,
  "vscode": {
   "interpreter": {
    "hash": "da24c822f958bb83a104dff98dc7b915134eb9cfe2a236abb560fb6bddae8834"
   }
  }
 },
 "nbformat": 4,
 "nbformat_minor": 2
}
